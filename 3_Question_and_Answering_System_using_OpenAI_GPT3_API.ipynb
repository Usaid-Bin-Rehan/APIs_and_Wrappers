{
  "nbformat": 4,
  "nbformat_minor": 0,
  "metadata": {
    "colab": {
      "name": "3. Question_and_Answering_System_using_OpenAI_GPT3_API.ipynb",
      "provenance": []
    },
    "kernelspec": {
      "name": "python3",
      "display_name": "Python 3"
    },
    "language_info": {
      "name": "python"
    }
  },
  "cells": [
    {
      "cell_type": "code",
      "metadata": {
        "id": "-S0l_ddjvua2"
      },
      "source": [
        "! pip install openai\n",
        "import openai"
      ],
      "execution_count": null,
      "outputs": []
    },
    {
      "cell_type": "code",
      "metadata": {
        "id": "ST8XxdmJv_s8"
      },
      "source": [
        "openai.api_key = \"YOUR-API-KEY\""
      ],
      "execution_count": null,
      "outputs": []
    },
    {
      "cell_type": "markdown",
      "metadata": {
        "id": "GfsJUkeQwgv1"
      },
      "source": [
        "## Method 1: Perform Question Answering using Document List\n",
        "\n",
        "#### **openai.Answer.create() function parameters:**\n",
        "\n",
        "**question:** provide your input question here\n",
        "\n",
        "**document:** the list of the document\n",
        "\n",
        "**examples_context:** A text example containing the paragraph or context which is used to generate the answers for the examples you provide.\n",
        "\n",
        "**examples:** provide sample pair of question & answer.\n",
        "\n",
        "**stop:** API will stop generating further tokens\n",
        "\n",
        "**max_tokens:** the maximum number of tokens allowed in the final response\n"
      ]
    },
    {
      "cell_type": "code",
      "metadata": {
        "id": "pmxm-WqGwBoZ"
      },
      "source": [
        "document_list = [\"Google was founded in 1998 by Larry Page and Sergey Brin while they were Ph.D. students at Stanford University in California. Together they own about 14 percent of its shares and control 56 percent of the stockholder voting power through supervoting stock. They incorporated Google as a privately held company on September 4, 1998. An initial public offering (IPO) took place on August 19, 2004, and Google moved to its headquarters in Mountain View, California, nicknamed the Googleplex. In August 2015, Google announced plans to reorganize its various interests as a conglomerate called Alphabet Inc. Google is Alphabet's leading subsidiary and will continue to be the umbrella company for Alphabet's Internet interests. Sundar Pichai was appointed CEO of Google, replacing Larry Page who became the CEO of Alphabet.\",\n",
        "\"Amazon is an American multinational technology company based in Seattle, Washington, which focuses on e-commerce, cloud computing, digital streaming, and artificial intelligence. It is one of the Big Five companies in the U.S. information technology industry, along with Google, Apple, Microsoft, and Facebook. The company has been referred to as 'one of the most influential economic and cultural forces in the world', as well as the world's most valuable brand. Jeff Bezos founded Amazon from his garage in Bellevue, Washington on July 5, 1994. It started as an online marketplace for books but expanded to sell electronics, software, video games, apparel, furniture, food, toys, and jewelry. In 2015, Amazon surpassed Walmart as the most valuable retailer in the United States by market capitalization.\"]\n",
        " \n",
        "response = openai.Answer.create(\n",
        " search_model=\"ada\",\n",
        " model=\"curie\",\n",
        " question=\"when was google founded?\",\n",
        " documents=document_list,\n",
        " examples_context=\"In 2017, U.S. life expectancy was 78.6 years.\",\n",
        " examples=[[\"What is human life expectancy in the United States?\",\"78 years.\"]],\n",
        " max_tokens=10,\n",
        " stop=[\"\\n\", \"<|endoftext|>\"],)\n",
        " \n",
        "print(response)"
      ],
      "execution_count": null,
      "outputs": []
    },
    {
      "cell_type": "markdown",
      "metadata": {
        "id": "Z3LE9lHujW-7"
      },
      "source": [
        "## Method 2: Perform Question Answering using Data Stored in File\n",
        "\n",
        "#### **JSON files**\n"
      ]
    },
    {
      "cell_type": "code",
      "metadata": {
        "id": "ub-aKZ5Yq5tt"
      },
      "source": [
        "# Creating\n",
        "\n",
        "{\"text\": \"Google was founded in 1998 by Larry Page and Sergey Brin while they were Ph.D. students at Stanford University in California. Together they own about 14 percent of its shares and control 56 percent of the stockholder voting power through supervoting stock. They incorporated Google as a privately held company on September 4, 1998. An initial public offering (IPO) took place on August 19, 2004, and Google moved to its headquarters in Mountain View, California, nicknamed the Googleplex. In August 2015, Google announced plans to reorganize its various interests as a conglomerate called Alphabet Inc. Google is Alphabet's leading subsidiary and will continue to be the umbrella company for Alphabets Internet interests. Sundar Pichai was appointed CEO of Google, replacing Larry Page who became the CEO of Alphabet.\", \"metadata\": \"Google\"}\n",
        "{\"text\": \"Amazon is an American multinational technology company based in Seattle, Washington, which focuses on e-commerce, cloud computing, digital streaming, and artificial intelligence. It is one of the Big Five companies in the U.S. information technology industry, along with Google, Apple, Microsoft, and Facebook. The company has been referred to as 'one of the most influential economic and cultural forces in the world', as well as the world's most valuable brand.Jeff Bezos founded Amazon from his garage in Bellevue, Washington on July 5, 1994. It started as an online marketplace for books but expanded to sell electronics, software, video games, apparel, furniture, food, toys, and jewelry. In 2015, Amazon surpassed Walmart as the most valuable retailer in the United States by market capitalization.\", \"metadata\": \"Amazon\"}"
      ],
      "execution_count": null,
      "outputs": []
    },
    {
      "cell_type": "code",
      "metadata": {
        "id": "oyK9KcdUrNVT"
      },
      "source": [
        "# Uploading\n",
        " \n",
        "response = openai.Answer.create(\n",
        "   search_model=\"ada\",\n",
        "   model=\"curie\",\n",
        "   question=\"when was google founded?\",\n",
        "   file=\"file-h5zzNVGdUigntPQWeVmJqAJf\",\n",
        "   examples_context=\"In 2017, U.S. life expectancy was 78.6 years.\",\n",
        "   examples=[[\"What is human life expectancy in the United States?\",\"78 years.\"]],\n",
        "   max_rerank=10,\n",
        "   max_tokens=10,\n",
        "   stop=[\"\\n\", \"<|endoftext|>\"])\n",
        " \n",
        "print(response)"
      ],
      "execution_count": null,
      "outputs": []
    }
  ]
}